{
  "nbformat": 4,
  "nbformat_minor": 0,
  "metadata": {
    "colab": {
      "name": "Untitled4.ipynb",
      "provenance": [],
      "authorship_tag": "ABX9TyOb9CkREs+nOLiWKMv17Dor",
      "include_colab_link": true
    },
    "kernelspec": {
      "name": "python3",
      "display_name": "Python 3"
    },
    "language_info": {
      "name": "python"
    }
  },
  "cells": [
    {
      "cell_type": "markdown",
      "metadata": {
        "id": "view-in-github",
        "colab_type": "text"
      },
      "source": [
        "<a href=\"https://colab.research.google.com/github/sanskritisrivastava413/project-107/blob/main/Untitled4.ipynb\" target=\"_parent\"><img src=\"https://colab.research.google.com/assets/colab-badge.svg\" alt=\"Open In Colab\"/></a>"
      ]
    },
    {
      "cell_type": "code",
      "execution_count": null,
      "metadata": {
        "id": "ttbmXVULiFOR"
      },
      "outputs": [],
      "source": [
        ""
      ]
    },
    {
      "cell_type": "code",
      "source": [
        "name = input('enter your name ')\n",
        "limit = len(name)\n",
        "\n",
        "for i in range (0,limit):\n",
        "  for x in range (0,limit):\n",
        "    if(i == x):\n",
        "      print(name[x],sep =' ',end =' ')\n",
        "    else:\n",
        "      print('*',sep =' ',end=' ')\n",
        "  print()"
      ],
      "metadata": {
        "colab": {
          "base_uri": "https://localhost:8080/"
        },
        "id": "gjtylgfpiG-j",
        "outputId": "996ff5b0-f2df-4d06-9664-ff621ac09198"
      },
      "execution_count": 1,
      "outputs": [
        {
          "output_type": "stream",
          "name": "stdout",
          "text": [
            "enter your name sanskriti\n",
            "s * * * * * * * * \n",
            "* a * * * * * * * \n",
            "* * n * * * * * * \n",
            "* * * s * * * * * \n",
            "* * * * k * * * * \n",
            "* * * * * r * * * \n",
            "* * * * * * i * * \n",
            "* * * * * * * t * \n",
            "* * * * * * * * i \n"
          ]
        }
      ]
    }
  ]
}